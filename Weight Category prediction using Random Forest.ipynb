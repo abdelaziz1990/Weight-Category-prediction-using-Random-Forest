{
 "cells": [
  {
   "cell_type": "code",
   "execution_count": 78,
   "id": "deb9504b",
   "metadata": {},
   "outputs": [],
   "source": [
    "import pandas as pd \n",
    "import numpy as np\n",
    "import seaborn as sns\n",
    "import matplotlib.pyplot as plt\n",
    "from sklearn.preprocessing import StandardScaler\n",
    "from sklearn.ensemble import RandomForestClassifier\n",
    "from sklearn.model_selection import train_test_split, GridSearchCV\n",
    "from sklearn.metrics import classification_report,confusion_matrix,accuracy_score"
   ]
  },
  {
   "cell_type": "code",
   "execution_count": 79,
   "id": "c32d7093",
   "metadata": {},
   "outputs": [
    {
     "data": {
      "text/html": [
       "<div>\n",
       "<style scoped>\n",
       "    .dataframe tbody tr th:only-of-type {\n",
       "        vertical-align: middle;\n",
       "    }\n",
       "\n",
       "    .dataframe tbody tr th {\n",
       "        vertical-align: top;\n",
       "    }\n",
       "\n",
       "    .dataframe thead th {\n",
       "        text-align: right;\n",
       "    }\n",
       "</style>\n",
       "<table border=\"1\" class=\"dataframe\">\n",
       "  <thead>\n",
       "    <tr style=\"text-align: right;\">\n",
       "      <th></th>\n",
       "      <th>Gender</th>\n",
       "      <th>Height</th>\n",
       "      <th>Weight</th>\n",
       "      <th>Index</th>\n",
       "    </tr>\n",
       "  </thead>\n",
       "  <tbody>\n",
       "    <tr>\n",
       "      <th>0</th>\n",
       "      <td>Male</td>\n",
       "      <td>174</td>\n",
       "      <td>96</td>\n",
       "      <td>4</td>\n",
       "    </tr>\n",
       "    <tr>\n",
       "      <th>1</th>\n",
       "      <td>Male</td>\n",
       "      <td>189</td>\n",
       "      <td>87</td>\n",
       "      <td>2</td>\n",
       "    </tr>\n",
       "    <tr>\n",
       "      <th>2</th>\n",
       "      <td>Female</td>\n",
       "      <td>185</td>\n",
       "      <td>110</td>\n",
       "      <td>4</td>\n",
       "    </tr>\n",
       "    <tr>\n",
       "      <th>3</th>\n",
       "      <td>Female</td>\n",
       "      <td>195</td>\n",
       "      <td>104</td>\n",
       "      <td>3</td>\n",
       "    </tr>\n",
       "    <tr>\n",
       "      <th>4</th>\n",
       "      <td>Male</td>\n",
       "      <td>149</td>\n",
       "      <td>61</td>\n",
       "      <td>3</td>\n",
       "    </tr>\n",
       "  </tbody>\n",
       "</table>\n",
       "</div>"
      ],
      "text/plain": [
       "   Gender  Height  Weight  Index\n",
       "0    Male     174      96      4\n",
       "1    Male     189      87      2\n",
       "2  Female     185     110      4\n",
       "3  Female     195     104      3\n",
       "4    Male     149      61      3"
      ]
     },
     "execution_count": 79,
     "metadata": {},
     "output_type": "execute_result"
    }
   ],
   "source": [
    "Data = pd.read_csv(r'C:\\Users\\Mtime\\OneDrive\\Bureau\\500_Person_Gender_Height_Weight_Index.csv')\n",
    "Data.head()"
   ]
  },
  {
   "cell_type": "code",
   "execution_count": 80,
   "id": "fd5b722c",
   "metadata": {},
   "outputs": [
    {
     "data": {
      "text/plain": [
       "<bound method NDFrame.describe of      Gender  Height  Weight  Index\n",
       "0      Male     174      96      4\n",
       "1      Male     189      87      2\n",
       "2    Female     185     110      4\n",
       "3    Female     195     104      3\n",
       "4      Male     149      61      3\n",
       "..      ...     ...     ...    ...\n",
       "495  Female     150     153      5\n",
       "496  Female     184     121      4\n",
       "497  Female     141     136      5\n",
       "498    Male     150      95      5\n",
       "499    Male     173     131      5\n",
       "\n",
       "[500 rows x 4 columns]>"
      ]
     },
     "execution_count": 80,
     "metadata": {},
     "output_type": "execute_result"
    }
   ],
   "source": [
    "Data.describe"
   ]
  },
  {
   "cell_type": "code",
   "execution_count": 81,
   "id": "ae5feee4",
   "metadata": {},
   "outputs": [
    {
     "data": {
      "text/plain": [
       "Gender    0\n",
       "Height    0\n",
       "Weight    0\n",
       "Index     0\n",
       "dtype: int64"
      ]
     },
     "execution_count": 81,
     "metadata": {},
     "output_type": "execute_result"
    }
   ],
   "source": [
    "Data.isnull().sum()"
   ]
  },
  {
   "cell_type": "code",
   "execution_count": 82,
   "id": "0e587ab3",
   "metadata": {},
   "outputs": [
    {
     "data": {
      "text/plain": [
       "array([4, 2, 3, 5, 1, 0], dtype=int64)"
      ]
     },
     "execution_count": 82,
     "metadata": {},
     "output_type": "execute_result"
    }
   ],
   "source": [
    "Data[\"Index\"].unique()"
   ]
  },
  {
   "cell_type": "code",
   "execution_count": 83,
   "id": "9e53fd20",
   "metadata": {},
   "outputs": [],
   "source": [
    "def give_name_to_index(Index):\n",
    "    if Index==0:\n",
    "        return 'So Weak'\n",
    "    elif Index==1:\n",
    "        return 'Weak'\n",
    "    elif Index==2:\n",
    "        return 'Normal'\n",
    "    elif Index==3:\n",
    "        return 'OverWeight'\n",
    "    elif Index==4:\n",
    "        return 'Obesity'\n",
    "    elif Index==5:\n",
    "        return 'Extrlemly obese'"
   ]
  },
  {
   "cell_type": "code",
   "execution_count": 84,
   "id": "ef0a2e4d",
   "metadata": {},
   "outputs": [],
   "source": [
    "Data[\"Index\"] = Data[\"Index\"].apply(give_name_to_index)"
   ]
  },
  {
   "cell_type": "code",
   "execution_count": 85,
   "id": "51833a8a",
   "metadata": {},
   "outputs": [
    {
     "data": {
      "text/plain": [
       "Text(0.5, 1.0, 'The Differents Weight Distribution by Index')"
      ]
     },
     "execution_count": 85,
     "metadata": {},
     "output_type": "execute_result"
    },
    {
     "data": {
      "image/png": "[encoded data removed]",
      "text/plain": [
       "<Figure size 476.375x360 with 1 Axes>"
      ]
     },
     "metadata": {
      "needs_background": "light"
     },
     "output_type": "display_data"
    }
   ],
   "source": [
    "sns.lmplot(x=\"Height\", y=\"Weight\", hue= \"Index\", data=Data)\n",
    "plt.title('The Differents Weight Distribution by Index')"
   ]
  },
  {
   "cell_type": "code",
   "execution_count": 48,
   "id": "639b0710",
   "metadata": {},
   "outputs": [
    {
     "data": {
      "text/plain": [
       "Text(0.5, 1.0, 'The Distrbtion of Weight by Gender')"
      ]
     },
     "execution_count": 48,
     "metadata": {},
     "output_type": "execute_result"
    },
    {
     "data": {
      "image/png": "[encoded data removed]",
      "text/plain": [
       "<Figure size 432x288 with 1 Axes>"
      ]
     },
     "metadata": {
      "needs_background": "light"
     },
     "output_type": "display_data"
    }
   ],
   "source": [
    "Data.groupby('Gender')['Weight'].size().plot(kind='bar')\n",
    "plt.title('The Distrbtion of Weight by Gender')"
   ]
  },
  {
   "cell_type": "code",
   "execution_count": 49,
   "id": "dc42fbd9",
   "metadata": {},
   "outputs": [
    {
     "data": {
      "text/plain": [
       "Extrlemly obese    105\n",
       "Obesity             59\n",
       "OverWeight          32\n",
       "Normal              28\n",
       "Weak                15\n",
       "So Weak              6\n",
       "Name: Index, dtype: int64"
      ]
     },
     "execution_count": 49,
     "metadata": {},
     "output_type": "execute_result"
    }
   ],
   "source": [
    "Data[Data['Gender']=='Male']['Index'].value_counts()"
   ]
  },
  {
   "cell_type": "code",
   "execution_count": 50,
   "id": "5a867d01",
   "metadata": {},
   "outputs": [
    {
     "data": {
      "text/plain": [
       "Extrlemly obese    93\n",
       "Obesity            71\n",
       "Normal             41\n",
       "OverWeight         36\n",
       "Weak                7\n",
       "So Weak             7\n",
       "Name: Index, dtype: int64"
      ]
     },
     "execution_count": 50,
     "metadata": {},
     "output_type": "execute_result"
    }
   ],
   "source": [
    "Data[Data['Gender']=='Female']['Index'].value_counts()"
   ]
  },
  {
   "cell_type": "code",
   "execution_count": 51,
   "id": "65fe927e",
   "metadata": {},
   "outputs": [],
   "source": [
    "Data2 = pd.get_dummies(Data['Gender'])\n",
    "Data.drop('Gender',axis=1,inplace=True)\n",
    "Data = pd.concat([Data,Data2],axis=1)"
   ]
  },
  {
   "cell_type": "code",
   "execution_count": 52,
   "id": "97fd438c",
   "metadata": {},
   "outputs": [
    {
     "data": {
      "text/html": [
       "<div>\n",
       "<style scoped>\n",
       "    .dataframe tbody tr th:only-of-type {\n",
       "        vertical-align: middle;\n",
       "    }\n",
       "\n",
       "    .dataframe tbody tr th {\n",
       "        vertical-align: top;\n",
       "    }\n",
       "\n",
       "    .dataframe thead th {\n",
       "        text-align: right;\n",
       "    }\n",
       "</style>\n",
       "<table border=\"1\" class=\"dataframe\">\n",
       "  <thead>\n",
       "    <tr style=\"text-align: right;\">\n",
       "      <th></th>\n",
       "      <th>Height</th>\n",
       "      <th>Weight</th>\n",
       "      <th>Index</th>\n",
       "      <th>Female</th>\n",
       "      <th>Male</th>\n",
       "    </tr>\n",
       "  </thead>\n",
       "  <tbody>\n",
       "    <tr>\n",
       "      <th>0</th>\n",
       "      <td>174</td>\n",
       "      <td>96</td>\n",
       "      <td>Obesity</td>\n",
       "      <td>0</td>\n",
       "      <td>1</td>\n",
       "    </tr>\n",
       "    <tr>\n",
       "      <th>1</th>\n",
       "      <td>189</td>\n",
       "      <td>87</td>\n",
       "      <td>Normal</td>\n",
       "      <td>0</td>\n",
       "      <td>1</td>\n",
       "    </tr>\n",
       "    <tr>\n",
       "      <th>2</th>\n",
       "      <td>185</td>\n",
       "      <td>110</td>\n",
       "      <td>Obesity</td>\n",
       "      <td>1</td>\n",
       "      <td>0</td>\n",
       "    </tr>\n",
       "    <tr>\n",
       "      <th>3</th>\n",
       "      <td>195</td>\n",
       "      <td>104</td>\n",
       "      <td>OverWeight</td>\n",
       "      <td>1</td>\n",
       "      <td>0</td>\n",
       "    </tr>\n",
       "    <tr>\n",
       "      <th>4</th>\n",
       "      <td>149</td>\n",
       "      <td>61</td>\n",
       "      <td>OverWeight</td>\n",
       "      <td>0</td>\n",
       "      <td>1</td>\n",
       "    </tr>\n",
       "  </tbody>\n",
       "</table>\n",
       "</div>"
      ],
      "text/plain": [
       "   Height  Weight       Index  Female  Male\n",
       "0     174      96     Obesity       0     1\n",
       "1     189      87      Normal       0     1\n",
       "2     185     110     Obesity       1     0\n",
       "3     195     104  OverWeight       1     0\n",
       "4     149      61  OverWeight       0     1"
      ]
     },
     "execution_count": 52,
     "metadata": {},
     "output_type": "execute_result"
    }
   ],
   "source": [
    "Data.head()"
   ]
  },
  {
   "cell_type": "code",
   "execution_count": 53,
   "id": "a8e1a63c",
   "metadata": {},
   "outputs": [],
   "source": [
    "y = Data['Index']\n",
    "Data = Data.drop(['Index'], axis=1)"
   ]
  },
  {
   "cell_type": "code",
   "execution_count": 54,
   "id": "11533a33",
   "metadata": {},
   "outputs": [],
   "source": [
    "Scaler = StandardScaler()\n",
    "Data = Scaler.fit_transform(Data)\n",
    "Data = pd.DataFrame(Data)"
   ]
  },
  {
   "cell_type": "code",
   "execution_count": 55,
   "id": "c14c40ed",
   "metadata": {},
   "outputs": [
    {
     "data": {
      "text/html": [
       "<div>\n",
       "<style scoped>\n",
       "    .dataframe tbody tr th:only-of-type {\n",
       "        vertical-align: middle;\n",
       "    }\n",
       "\n",
       "    .dataframe tbody tr th {\n",
       "        vertical-align: top;\n",
       "    }\n",
       "\n",
       "    .dataframe thead th {\n",
       "        text-align: right;\n",
       "    }\n",
       "</style>\n",
       "<table border=\"1\" class=\"dataframe\">\n",
       "  <thead>\n",
       "    <tr style=\"text-align: right;\">\n",
       "      <th></th>\n",
       "      <th>0</th>\n",
       "      <th>1</th>\n",
       "      <th>2</th>\n",
       "      <th>3</th>\n",
       "    </tr>\n",
       "  </thead>\n",
       "  <tbody>\n",
       "    <tr>\n",
       "      <th>0</th>\n",
       "      <td>0.247939</td>\n",
       "      <td>-0.309117</td>\n",
       "      <td>-1.020204</td>\n",
       "      <td>1.020204</td>\n",
       "    </tr>\n",
       "    <tr>\n",
       "      <th>1</th>\n",
       "      <td>1.164872</td>\n",
       "      <td>-0.587322</td>\n",
       "      <td>-1.020204</td>\n",
       "      <td>1.020204</td>\n",
       "    </tr>\n",
       "    <tr>\n",
       "      <th>2</th>\n",
       "      <td>0.920357</td>\n",
       "      <td>0.123647</td>\n",
       "      <td>0.980196</td>\n",
       "      <td>-0.980196</td>\n",
       "    </tr>\n",
       "    <tr>\n",
       "      <th>3</th>\n",
       "      <td>1.531645</td>\n",
       "      <td>-0.061823</td>\n",
       "      <td>0.980196</td>\n",
       "      <td>-0.980196</td>\n",
       "    </tr>\n",
       "    <tr>\n",
       "      <th>4</th>\n",
       "      <td>-1.280283</td>\n",
       "      <td>-1.391027</td>\n",
       "      <td>-1.020204</td>\n",
       "      <td>1.020204</td>\n",
       "    </tr>\n",
       "  </tbody>\n",
       "</table>\n",
       "</div>"
      ],
      "text/plain": [
       "          0         1         2         3\n",
       "0  0.247939 -0.309117 -1.020204  1.020204\n",
       "1  1.164872 -0.587322 -1.020204  1.020204\n",
       "2  0.920357  0.123647  0.980196 -0.980196\n",
       "3  1.531645 -0.061823  0.980196 -0.980196\n",
       "4 -1.280283 -1.391027 -1.020204  1.020204"
      ]
     },
     "execution_count": 55,
     "metadata": {},
     "output_type": "execute_result"
    }
   ],
   "source": [
    "Data.head()"
   ]
  },
  {
   "cell_type": "code",
   "execution_count": 56,
   "id": "c3f56353",
   "metadata": {},
   "outputs": [],
   "source": [
    "X_train, X_test, y_train, y_test = train_test_split(Data, y, test_size=0.3, random_state=101) "
   ]
  },
  {
   "cell_type": "code",
   "execution_count": 57,
   "id": "0ed21700",
   "metadata": {},
   "outputs": [
    {
     "name": "stdout",
     "output_type": "stream",
     "text": [
      "Fitting 5 folds for each of 9 candidates, totalling 45 fits\n",
      "[CV 1/5] END ..................n_estimators=100;, score=0.857 total time=   0.2s\n",
      "[CV 2/5] END ..................n_estimators=100;, score=0.886 total time=   0.1s\n",
      "[CV 3/5] END ..................n_estimators=100;, score=0.829 total time=   0.1s\n",
      "[CV 4/5] END ..................n_estimators=100;, score=0.786 total time=   0.2s\n",
      "[CV 5/5] END ..................n_estimators=100;, score=0.900 total time=   0.2s\n",
      "[CV 1/5] END ..................n_estimators=200;, score=0.843 total time=   0.4s\n",
      "[CV 2/5] END ..................n_estimators=200;, score=0.900 total time=   0.8s\n",
      "[CV 3/5] END ..................n_estimators=200;, score=0.843 total time=   0.4s\n",
      "[CV 4/5] END ..................n_estimators=200;, score=0.829 total time=   0.4s\n",
      "[CV 5/5] END ..................n_estimators=200;, score=0.886 total time=   1.1s\n",
      "[CV 1/5] END ..................n_estimators=300;, score=0.843 total time=   1.7s\n",
      "[CV 2/5] END ..................n_estimators=300;, score=0.900 total time=   1.8s\n",
      "[CV 3/5] END ..................n_estimators=300;, score=0.843 total time=   1.1s\n",
      "[CV 4/5] END ..................n_estimators=300;, score=0.814 total time=   0.8s\n",
      "[CV 5/5] END ..................n_estimators=300;, score=0.900 total time=   1.2s\n",
      "[CV 1/5] END ..................n_estimators=400;, score=0.843 total time=   2.3s\n",
      "[CV 2/5] END ..................n_estimators=400;, score=0.900 total time=   1.2s\n",
      "[CV 3/5] END ..................n_estimators=400;, score=0.843 total time=   0.9s\n",
      "[CV 4/5] END ..................n_estimators=400;, score=0.800 total time=   0.8s\n",
      "[CV 5/5] END ..................n_estimators=400;, score=0.886 total time=   0.8s\n",
      "[CV 1/5] END ..................n_estimators=500;, score=0.857 total time=   1.0s\n",
      "[CV 2/5] END ..................n_estimators=500;, score=0.900 total time=   1.0s\n",
      "[CV 3/5] END ..................n_estimators=500;, score=0.843 total time=   1.0s\n",
      "[CV 4/5] END ..................n_estimators=500;, score=0.786 total time=   1.0s\n",
      "[CV 5/5] END ..................n_estimators=500;, score=0.886 total time=   1.0s\n",
      "[CV 1/5] END ..................n_estimators=600;, score=0.843 total time=   1.5s\n",
      "[CV 2/5] END ..................n_estimators=600;, score=0.900 total time=   1.5s\n",
      "[CV 3/5] END ..................n_estimators=600;, score=0.843 total time=   2.0s\n",
      "[CV 4/5] END ..................n_estimators=600;, score=0.786 total time=   4.7s\n",
      "[CV 5/5] END ..................n_estimators=600;, score=0.886 total time=   1.8s\n",
      "[CV 1/5] END ..................n_estimators=700;, score=0.857 total time=   3.6s\n",
      "[CV 2/5] END ..................n_estimators=700;, score=0.900 total time=   3.0s\n",
      "[CV 3/5] END ..................n_estimators=700;, score=0.843 total time=   3.8s\n",
      "[CV 4/5] END ..................n_estimators=700;, score=0.786 total time=  10.4s\n",
      "[CV 5/5] END ..................n_estimators=700;, score=0.886 total time=   6.3s\n",
      "[CV 1/5] END ..................n_estimators=800;, score=0.857 total time=   3.0s\n",
      "[CV 2/5] END ..................n_estimators=800;, score=0.900 total time=   2.4s\n",
      "[CV 3/5] END ..................n_estimators=800;, score=0.843 total time=   1.7s\n",
      "[CV 4/5] END ..................n_estimators=800;, score=0.786 total time=   1.8s\n",
      "[CV 5/5] END ..................n_estimators=800;, score=0.886 total time=   2.1s\n",
      "[CV 1/5] END .................n_estimators=1000;, score=0.857 total time=   5.0s\n",
      "[CV 2/5] END .................n_estimators=1000;, score=0.900 total time=  37.6s\n",
      "[CV 3/5] END .................n_estimators=1000;, score=0.829 total time= 1.2min\n",
      "[CV 4/5] END .................n_estimators=1000;, score=0.800 total time=  14.0s\n",
      "[CV 5/5] END .................n_estimators=1000;, score=0.886 total time=  10.6s\n",
      "{'n_estimators': 200}\n"
     ]
    }
   ],
   "source": [
    "param_grid = {'n_estimators':[100,200,300,400,500,600,700,800,1000]}\n",
    "grid_cv = GridSearchCV(RandomForestClassifier(random_state=101),param_grid,verbose=3)\n",
    "grid_cv.fit(X_train,y_train)\n",
    "print(grid_cv.best_params_)"
   ]
  },
  {
   "cell_type": "code",
   "execution_count": 58,
   "id": "2b91f155",
   "metadata": {},
   "outputs": [],
   "source": [
    "prediction = grid_cv.predict(X_test)"
   ]
  },
  {
   "cell_type": "code",
   "execution_count": 62,
   "id": "b169e549",
   "metadata": {},
   "outputs": [
    {
     "name": "stdout",
     "output_type": "stream",
     "text": [
      "                 precision    recall  f1-score   support\n",
      "\n",
      "Extrlemly obese       0.91      0.97      0.94        63\n",
      "         Normal       0.92      0.96      0.94        23\n",
      "        Obesity       0.78      0.82      0.79        38\n",
      "     OverWeight       0.92      0.58      0.71        19\n",
      "        So Weak       1.00      1.00      1.00         1\n",
      "           Weak       0.83      0.83      0.83         6\n",
      "\n",
      "       accuracy                           0.87       150\n",
      "      macro avg       0.89      0.86      0.87       150\n",
      "   weighted avg       0.88      0.87      0.87       150\n",
      "\n"
     ]
    }
   ],
   "source": [
    "print(classification_report(y_test,prediction))"
   ]
  },
  {
   "cell_type": "code",
   "execution_count": 63,
   "id": "d26b1717",
   "metadata": {},
   "outputs": [
    {
     "name": "stdout",
     "output_type": "stream",
     "text": [
      "[[61  0  2  0  0  0]\n",
      " [ 0 22  0  0  0  1]\n",
      " [ 6  0 31  1  0  0]\n",
      " [ 0  1  7 11  0  0]\n",
      " [ 0  0  0  0  1  0]\n",
      " [ 0  1  0  0  0  5]]\n"
     ]
    }
   ],
   "source": [
    "print(confusion_matrix(y_test, prediction))"
   ]
  },
  {
   "cell_type": "code",
   "execution_count": 66,
   "id": "a21aed6d",
   "metadata": {},
   "outputs": [
    {
     "name": "stdout",
     "output_type": "stream",
     "text": [
      "87.33333333333333\n"
     ]
    }
   ],
   "source": [
    "print(accuracy_score(y_test, prediction)*100)"
   ]
  },
  {
   "cell_type": "code",
   "execution_count": 69,
   "id": "4fe76364",
   "metadata": {},
   "outputs": [],
   "source": [
    "def lp(details):\n",
    "    gender = details[0]\n",
    "    height = details[1]\n",
    "    weight = details[2]\n",
    "    \n",
    "    if gender=='Male':\n",
    "        details=np.array([[np.float(height),np.float(weight),0.0,1.0]])\n",
    "    elif gender=='Female':\n",
    "        details=np.array([[np.float(height),np.float(weight),1.0,0.0]])\n",
    "    \n",
    "    y_pred = grid_cv.predict(Scaler.transform(details))\n",
    "    return (y_pred[0])"
   ]
  },
  {
   "cell_type": "code",
   "execution_count": 76,
   "id": "082c7811",
   "metadata": {},
   "outputs": [
    {
     "name": "stdout",
     "output_type": "stream",
     "text": [
      "OverWeight\n"
     ]
    },
    {
     "name": "stderr",
     "output_type": "stream",
     "text": [
      "C:\\Users\\Mtime\\AppData\\Local\\Temp/ipykernel_64084/2401407290.py:7: DeprecationWarning: `np.float` is a deprecated alias for the builtin `float`. To silence this warning, use `float` by itself. Doing this will not modify any behavior and is safe. If you specifically wanted the numpy scalar type, use `np.float64` here.\n",
      "Deprecated in NumPy 1.20; for more details and guidance: https://numpy.org/devdocs/release/1.20.0-notes.html#deprecations\n",
      "  details=np.array([[np.float(height),np.float(weight),0.0,1.0]])\n",
      "C:\\Users\\Mtime\\anaconda3\\lib\\site-packages\\sklearn\\base.py:450: UserWarning: X does not have valid feature names, but StandardScaler was fitted with feature names\n",
      "  warnings.warn(\n"
     ]
    }
   ],
   "source": [
    "your_details = ['Male',7,7]\n",
    "print(lp(your_details))"
   ]
  },
  {
   "cell_type": "code",
   "execution_count": null,
   "id": "6b4b8eb1",
   "metadata": {},
   "outputs": [],
   "source": []
  }
 ],
 "metadata": {
  "kernelspec": {
   "display_name": "Python 3 (ipykernel)",
   "language": "python",
   "name": "python3"
  },
  "language_info": {
   "codemirror_mode": {
    "name": "ipython",
    "version": 3
   },
   "file_extension": ".py",
   "mimetype": "text/x-python",
   "name": "python",
   "nbconvert_exporter": "python",
   "pygments_lexer": "ipython3",
   "version": "3.9.7"
  }
 },
 "nbformat": 4,
 "nbformat_minor": 5
}
